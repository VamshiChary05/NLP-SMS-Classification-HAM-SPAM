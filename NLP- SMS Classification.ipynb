{
 "cells": [
  {
   "cell_type": "markdown",
   "id": "343bf2e1",
   "metadata": {},
   "source": [
    "# Text Classification"
   ]
  },
  {
   "cell_type": "code",
   "execution_count": 1,
   "id": "7189f99d",
   "metadata": {},
   "outputs": [],
   "source": [
    "# 1.Represent text as numerical data\n",
    "# 2.Read text dataset into pandas Library\n",
    "# 3.Vectorize text dataset (using both CountVectorizer & TFIDFVectorizer)\n",
    "# 4.Build and evaluate a model\n",
    "# 5.Compare multiple models\n",
    "# 6.fine tune vectorizer\n",
    "# 7.word cloud\n",
    "# 8.lemmatization and stemming\n",
    "# 9.sentiment calculation"
   ]
  },
  {
   "cell_type": "markdown",
   "id": "a595f4e1",
   "metadata": {},
   "source": [
    "# 1.Represent text as numerical data"
   ]
  },
  {
   "cell_type": "code",
   "execution_count": 2,
   "id": "351a273b",
   "metadata": {},
   "outputs": [],
   "source": [
    "import pandas as pd\n",
    "from sklearn.neighbors import KNeighborsClassifier"
   ]
  },
  {
   "cell_type": "code",
   "execution_count": 3,
   "id": "b7413d5c",
   "metadata": {},
   "outputs": [],
   "source": [
    "# sample text data\n",
    "sampleTrain = ['i will call you tonight','please help me...','please call a cab please !']"
   ]
  },
  {
   "cell_type": "code",
   "execution_count": 4,
   "id": "96bf9340",
   "metadata": {},
   "outputs": [],
   "source": [
    "# sample target vector (labelling document sentences)\n",
    "y = [0,1,0] \n",
    "# 0 - Ham label\n",
    "# 1 - spam label"
   ]
  },
  {
   "cell_type": "code",
   "execution_count": 5,
   "id": "46f4f1d4",
   "metadata": {},
   "outputs": [],
   "source": [
    "from sklearn.feature_extraction.text import CountVectorizer\n",
    "toNumeric = CountVectorizer()"
   ]
  },
  {
   "cell_type": "code",
   "execution_count": 6,
   "id": "ae09cabb",
   "metadata": {},
   "outputs": [
    {
     "data": {
      "text/plain": [
       "CountVectorizer()"
      ]
     },
     "execution_count": 6,
     "metadata": {},
     "output_type": "execute_result"
    }
   ],
   "source": [
    "# Get to vocabulary(unique words) from training data\n",
    "toNumeric.fit(sampleTrain)"
   ]
  },
  {
   "cell_type": "code",
   "execution_count": 7,
   "id": "3eae0bb9",
   "metadata": {},
   "outputs": [
    {
     "name": "stderr",
     "output_type": "stream",
     "text": [
      "C:\\Users\\Pooja\\anaconda\\lib\\site-packages\\sklearn\\utils\\deprecation.py:87: FutureWarning: Function get_feature_names is deprecated; get_feature_names is deprecated in 1.0 and will be removed in 1.2. Please use get_feature_names_out instead.\n",
      "  warnings.warn(msg, category=FutureWarning)\n"
     ]
    },
    {
     "data": {
      "text/plain": [
       "['cab', 'call', 'help', 'me', 'please', 'tonight', 'will', 'you']"
      ]
     },
     "execution_count": 7,
     "metadata": {},
     "output_type": "execute_result"
    }
   ],
   "source": [
    "# Test the created vocabulary\n",
    "toNumeric.get_feature_names()"
   ]
  },
  {
   "cell_type": "code",
   "execution_count": 8,
   "id": "db442d41",
   "metadata": {},
   "outputs": [
    {
     "data": {
      "text/plain": [
       "8"
      ]
     },
     "execution_count": 8,
     "metadata": {},
     "output_type": "execute_result"
    }
   ],
   "source": [
    "# 8 words\n",
    "len(toNumeric.get_feature_names())"
   ]
  },
  {
   "cell_type": "code",
   "execution_count": 9,
   "id": "2a3b3862",
   "metadata": {},
   "outputs": [
    {
     "data": {
      "text/plain": [
       "<3x8 sparse matrix of type '<class 'numpy.int64'>'\n",
       "\twith 10 stored elements in Compressed Sparse Row format>"
      ]
     },
     "execution_count": 9,
     "metadata": {},
     "output_type": "execute_result"
    }
   ],
   "source": [
    "#Convert training data into a document_term matrix\n",
    "\n",
    "sampleTrain_dtm = toNumeric.transform(sampleTrain)\n",
    "sampleTrain_dtm"
   ]
  },
  {
   "cell_type": "code",
   "execution_count": 10,
   "id": "bf394869",
   "metadata": {},
   "outputs": [
    {
     "data": {
      "text/plain": [
       "array([[0, 1, 0, 0, 0, 1, 1, 1],\n",
       "       [0, 0, 1, 1, 1, 0, 0, 0],\n",
       "       [1, 1, 0, 0, 2, 0, 0, 0]], dtype=int64)"
      ]
     },
     "execution_count": 10,
     "metadata": {},
     "output_type": "execute_result"
    }
   ],
   "source": [
    "sampleTrain_dtm.toarray()"
   ]
  },
  {
   "cell_type": "code",
   "execution_count": 11,
   "id": "ebf2bd3c",
   "metadata": {},
   "outputs": [
    {
     "data": {
      "text/html": [
       "<div>\n",
       "<style scoped>\n",
       "    .dataframe tbody tr th:only-of-type {\n",
       "        vertical-align: middle;\n",
       "    }\n",
       "\n",
       "    .dataframe tbody tr th {\n",
       "        vertical-align: top;\n",
       "    }\n",
       "\n",
       "    .dataframe thead th {\n",
       "        text-align: right;\n",
       "    }\n",
       "</style>\n",
       "<table border=\"1\" class=\"dataframe\">\n",
       "  <thead>\n",
       "    <tr style=\"text-align: right;\">\n",
       "      <th></th>\n",
       "      <th>cab</th>\n",
       "      <th>call</th>\n",
       "      <th>help</th>\n",
       "      <th>me</th>\n",
       "      <th>please</th>\n",
       "      <th>tonight</th>\n",
       "      <th>will</th>\n",
       "      <th>you</th>\n",
       "    </tr>\n",
       "  </thead>\n",
       "  <tbody>\n",
       "    <tr>\n",
       "      <th>0</th>\n",
       "      <td>0</td>\n",
       "      <td>1</td>\n",
       "      <td>0</td>\n",
       "      <td>0</td>\n",
       "      <td>0</td>\n",
       "      <td>1</td>\n",
       "      <td>1</td>\n",
       "      <td>1</td>\n",
       "    </tr>\n",
       "    <tr>\n",
       "      <th>1</th>\n",
       "      <td>0</td>\n",
       "      <td>0</td>\n",
       "      <td>1</td>\n",
       "      <td>1</td>\n",
       "      <td>1</td>\n",
       "      <td>0</td>\n",
       "      <td>0</td>\n",
       "      <td>0</td>\n",
       "    </tr>\n",
       "    <tr>\n",
       "      <th>2</th>\n",
       "      <td>1</td>\n",
       "      <td>1</td>\n",
       "      <td>0</td>\n",
       "      <td>0</td>\n",
       "      <td>2</td>\n",
       "      <td>0</td>\n",
       "      <td>0</td>\n",
       "      <td>0</td>\n",
       "    </tr>\n",
       "  </tbody>\n",
       "</table>\n",
       "</div>"
      ],
      "text/plain": [
       "   cab  call  help  me  please  tonight  will  you\n",
       "0    0     1     0   0       0        1     1    1\n",
       "1    0     0     1   1       1        0     0    0\n",
       "2    1     1     0   0       2        0     0    0"
      ]
     },
     "execution_count": 11,
     "metadata": {},
     "output_type": "execute_result"
    }
   ],
   "source": [
    "pd.DataFrame(sampleTrain_dtm.toarray(),columns=toNumeric.get_feature_names())"
   ]
  },
  {
   "cell_type": "code",
   "execution_count": 12,
   "id": "9ae5e3dd",
   "metadata": {},
   "outputs": [
    {
     "data": {
      "text/plain": [
       "KNeighborsClassifier(n_neighbors=1)"
      ]
     },
     "execution_count": 12,
     "metadata": {},
     "output_type": "execute_result"
    }
   ],
   "source": [
    "# Build a model to predict the target\n",
    "knn = KNeighborsClassifier(n_neighbors=1)\n",
    "knn.fit(sampleTrain_dtm,y)\n"
   ]
  },
  {
   "cell_type": "code",
   "execution_count": 13,
   "id": "40994e02",
   "metadata": {},
   "outputs": [],
   "source": [
    "# Test text for model validation\n",
    "sampleTest = [\"Don't call please\"]"
   ]
  },
  {
   "cell_type": "raw",
   "id": "67e50b8e",
   "metadata": {},
   "source": [
    "# In order to make a prediction,the new test data must have the same feature as the training observation,both in number and meaning."
   ]
  },
  {
   "cell_type": "code",
   "execution_count": 14,
   "id": "eaffbda0",
   "metadata": {},
   "outputs": [],
   "source": [
    "#Transform text data into DTM by using generated vocabulary\n",
    "sampleTest_dtm = toNumeric.transform(sampleTest)"
   ]
  },
  {
   "cell_type": "code",
   "execution_count": 15,
   "id": "e93d987a",
   "metadata": {},
   "outputs": [
    {
     "data": {
      "text/plain": [
       "array([[0, 1, 0, 0, 1, 0, 0, 0]], dtype=int64)"
      ]
     },
     "execution_count": 15,
     "metadata": {},
     "output_type": "execute_result"
    }
   ],
   "source": [
    "sampleTest_dtm.toarray()"
   ]
  },
  {
   "cell_type": "code",
   "execution_count": 16,
   "id": "c90682f2",
   "metadata": {},
   "outputs": [
    {
     "name": "stderr",
     "output_type": "stream",
     "text": [
      "C:\\Users\\Pooja\\anaconda\\lib\\site-packages\\sklearn\\neighbors\\_classification.py:228: FutureWarning: Unlike other reduction functions (e.g. `skew`, `kurtosis`), the default behavior of `mode` typically preserves the axis it acts along. In SciPy 1.11.0, this behavior will change: the default value of `keepdims` will become False, the `axis` over which the statistic is taken will be eliminated, and the value None will no longer be accepted. Set `keepdims` to True or False to avoid this warning.\n",
      "  mode, _ = stats.mode(_y[neigh_ind, k], axis=1)\n"
     ]
    },
    {
     "data": {
      "text/plain": [
       "array([0])"
      ]
     },
     "execution_count": 16,
     "metadata": {},
     "output_type": "execute_result"
    }
   ],
   "source": [
    "# Test build model\n",
    "knn.predict(sampleTest_dtm)"
   ]
  },
  {
   "cell_type": "code",
   "execution_count": 17,
   "id": "82639576",
   "metadata": {},
   "outputs": [
    {
     "name": "stderr",
     "output_type": "stream",
     "text": [
      "C:\\Users\\Pooja\\anaconda\\lib\\site-packages\\sklearn\\utils\\deprecation.py:87: FutureWarning: Function get_feature_names is deprecated; get_feature_names is deprecated in 1.0 and will be removed in 1.2. Please use get_feature_names_out instead.\n",
      "  warnings.warn(msg, category=FutureWarning)\n"
     ]
    },
    {
     "data": {
      "text/plain": [
       "['cab', 'call', 'help', 'me', 'please', 'tonight', 'will', 'you']"
      ]
     },
     "execution_count": 17,
     "metadata": {},
     "output_type": "execute_result"
    }
   ],
   "source": [
    "toNumeric.get_feature_names()"
   ]
  },
  {
   "cell_type": "markdown",
   "id": "2b87e406",
   "metadata": {},
   "source": [
    "Summary:\n",
    "    vect.fit(sampleTrain) learn the vocabulary from training data\n",
    "    Vect.transform(sampleTrain) use the trained vocabulary to build DTM from the train data\n",
    "    vect.transform(sampleTest) use the trained vocabulary to build DTM from the test data and ignore vocabulary it hasn't seen before"
   ]
  },
  {
   "cell_type": "markdown",
   "id": "1922582d",
   "metadata": {},
   "source": [
    "# 2.Read text dataset into pandas"
   ]
  },
  {
   "cell_type": "code",
   "execution_count": 18,
   "id": "ef9fd100",
   "metadata": {},
   "outputs": [],
   "source": [
    "# Read sms data into pandas\n",
    "data = pd.read_table('sms.tsv',header=None,names=['label','message'])"
   ]
  },
  {
   "cell_type": "code",
   "execution_count": 19,
   "id": "4a0a50f7",
   "metadata": {},
   "outputs": [
    {
     "data": {
      "text/plain": [
       "(5572, 2)"
      ]
     },
     "execution_count": 19,
     "metadata": {},
     "output_type": "execute_result"
    }
   ],
   "source": [
    "data.shape"
   ]
  },
  {
   "cell_type": "code",
   "execution_count": 20,
   "id": "ae646d18",
   "metadata": {},
   "outputs": [
    {
     "data": {
      "text/html": [
       "<div>\n",
       "<style scoped>\n",
       "    .dataframe tbody tr th:only-of-type {\n",
       "        vertical-align: middle;\n",
       "    }\n",
       "\n",
       "    .dataframe tbody tr th {\n",
       "        vertical-align: top;\n",
       "    }\n",
       "\n",
       "    .dataframe thead th {\n",
       "        text-align: right;\n",
       "    }\n",
       "</style>\n",
       "<table border=\"1\" class=\"dataframe\">\n",
       "  <thead>\n",
       "    <tr style=\"text-align: right;\">\n",
       "      <th></th>\n",
       "      <th>label</th>\n",
       "      <th>message</th>\n",
       "    </tr>\n",
       "  </thead>\n",
       "  <tbody>\n",
       "    <tr>\n",
       "      <th>0</th>\n",
       "      <td>ham</td>\n",
       "      <td>Go until jurong point, crazy.. Available only ...</td>\n",
       "    </tr>\n",
       "    <tr>\n",
       "      <th>1</th>\n",
       "      <td>ham</td>\n",
       "      <td>Ok lar... Joking wif u oni...</td>\n",
       "    </tr>\n",
       "    <tr>\n",
       "      <th>2</th>\n",
       "      <td>spam</td>\n",
       "      <td>Free entry in 2 a wkly comp to win FA Cup fina...</td>\n",
       "    </tr>\n",
       "    <tr>\n",
       "      <th>3</th>\n",
       "      <td>ham</td>\n",
       "      <td>U dun say so early hor... U c already then say...</td>\n",
       "    </tr>\n",
       "    <tr>\n",
       "      <th>4</th>\n",
       "      <td>ham</td>\n",
       "      <td>Nah I don't think he goes to usf, he lives aro...</td>\n",
       "    </tr>\n",
       "  </tbody>\n",
       "</table>\n",
       "</div>"
      ],
      "text/plain": [
       "  label                                            message\n",
       "0   ham  Go until jurong point, crazy.. Available only ...\n",
       "1   ham                      Ok lar... Joking wif u oni...\n",
       "2  spam  Free entry in 2 a wkly comp to win FA Cup fina...\n",
       "3   ham  U dun say so early hor... U c already then say...\n",
       "4   ham  Nah I don't think he goes to usf, he lives aro..."
      ]
     },
     "execution_count": 20,
     "metadata": {},
     "output_type": "execute_result"
    }
   ],
   "source": [
    "data.head(5)"
   ]
  },
  {
   "cell_type": "code",
   "execution_count": 21,
   "id": "48b0b659",
   "metadata": {},
   "outputs": [],
   "source": [
    "# Target variable 'label' is categorical,convert it into numeric value\n",
    "data['label_num'] = data.label.map({'ham': 0,'spam':1})"
   ]
  },
  {
   "cell_type": "code",
   "execution_count": 22,
   "id": "7c63adc5",
   "metadata": {},
   "outputs": [
    {
     "data": {
      "text/html": [
       "<div>\n",
       "<style scoped>\n",
       "    .dataframe tbody tr th:only-of-type {\n",
       "        vertical-align: middle;\n",
       "    }\n",
       "\n",
       "    .dataframe tbody tr th {\n",
       "        vertical-align: top;\n",
       "    }\n",
       "\n",
       "    .dataframe thead th {\n",
       "        text-align: right;\n",
       "    }\n",
       "</style>\n",
       "<table border=\"1\" class=\"dataframe\">\n",
       "  <thead>\n",
       "    <tr style=\"text-align: right;\">\n",
       "      <th></th>\n",
       "      <th>label</th>\n",
       "      <th>message</th>\n",
       "      <th>label_num</th>\n",
       "    </tr>\n",
       "  </thead>\n",
       "  <tbody>\n",
       "    <tr>\n",
       "      <th>0</th>\n",
       "      <td>ham</td>\n",
       "      <td>Go until jurong point, crazy.. Available only ...</td>\n",
       "      <td>0</td>\n",
       "    </tr>\n",
       "    <tr>\n",
       "      <th>1</th>\n",
       "      <td>ham</td>\n",
       "      <td>Ok lar... Joking wif u oni...</td>\n",
       "      <td>0</td>\n",
       "    </tr>\n",
       "    <tr>\n",
       "      <th>2</th>\n",
       "      <td>spam</td>\n",
       "      <td>Free entry in 2 a wkly comp to win FA Cup fina...</td>\n",
       "      <td>1</td>\n",
       "    </tr>\n",
       "    <tr>\n",
       "      <th>3</th>\n",
       "      <td>ham</td>\n",
       "      <td>U dun say so early hor... U c already then say...</td>\n",
       "      <td>0</td>\n",
       "    </tr>\n",
       "    <tr>\n",
       "      <th>4</th>\n",
       "      <td>ham</td>\n",
       "      <td>Nah I don't think he goes to usf, he lives aro...</td>\n",
       "      <td>0</td>\n",
       "    </tr>\n",
       "  </tbody>\n",
       "</table>\n",
       "</div>"
      ],
      "text/plain": [
       "  label                                            message  label_num\n",
       "0   ham  Go until jurong point, crazy.. Available only ...          0\n",
       "1   ham                      Ok lar... Joking wif u oni...          0\n",
       "2  spam  Free entry in 2 a wkly comp to win FA Cup fina...          1\n",
       "3   ham  U dun say so early hor... U c already then say...          0\n",
       "4   ham  Nah I don't think he goes to usf, he lives aro...          0"
      ]
     },
     "execution_count": 22,
     "metadata": {},
     "output_type": "execute_result"
    }
   ],
   "source": [
    "data.head(5)"
   ]
  },
  {
   "cell_type": "code",
   "execution_count": 23,
   "id": "92bc1f07",
   "metadata": {},
   "outputs": [
    {
     "data": {
      "text/plain": [
       "ham     4825\n",
       "spam     747\n",
       "Name: label, dtype: int64"
      ]
     },
     "execution_count": 23,
     "metadata": {},
     "output_type": "execute_result"
    }
   ],
   "source": [
    "data.label.value_counts()"
   ]
  },
  {
   "cell_type": "code",
   "execution_count": 24,
   "id": "22dbe0fc",
   "metadata": {},
   "outputs": [],
   "source": [
    "# define X and Y datasets  from 'data'\n",
    "X = data.message\n",
    "y = data.label_num"
   ]
  },
  {
   "cell_type": "code",
   "execution_count": 25,
   "id": "419d1d4e",
   "metadata": {},
   "outputs": [
    {
     "name": "stdout",
     "output_type": "stream",
     "text": [
      "(5572,)\n",
      "(5572,)\n"
     ]
    }
   ],
   "source": [
    "print(X.shape)\n",
    "print(y.shape)"
   ]
  },
  {
   "cell_type": "code",
   "execution_count": 26,
   "id": "86aec12e",
   "metadata": {},
   "outputs": [],
   "source": [
    "from sklearn.model_selection import train_test_split\n",
    "X_train,X_test,y_train,y_test = train_test_split(X,y,random_state=7)"
   ]
  },
  {
   "cell_type": "code",
   "execution_count": 27,
   "id": "becc4b12",
   "metadata": {},
   "outputs": [
    {
     "name": "stdout",
     "output_type": "stream",
     "text": [
      "(4179,)\n",
      "(4179,)\n",
      "(1393,)\n",
      "(1393,)\n"
     ]
    }
   ],
   "source": [
    "print(X_train.shape)\n",
    "print(y_train.shape)\n",
    "print(X_test.shape)\n",
    "print(y_test.shape)"
   ]
  },
  {
   "cell_type": "code",
   "execution_count": 28,
   "id": "07757ded",
   "metadata": {},
   "outputs": [],
   "source": [
    "# to convert given data into DTM\n",
    "#step1 use X-train data to create vocabulary\n",
    "#step2 with created vocabulary ,get DTM for x_train\n",
    "#step3 with created vocabulary (using X_train data),get DTM for X_test"
   ]
  },
  {
   "cell_type": "markdown",
   "id": "47ddaa5f",
   "metadata": {},
   "source": [
    "# 3.Vectorize text dataset"
   ]
  },
  {
   "cell_type": "code",
   "execution_count": 29,
   "id": "a9d5c69f",
   "metadata": {},
   "outputs": [],
   "source": [
    "# call the vectorizer\n",
    "toNumeric = CountVectorizer()"
   ]
  },
  {
   "cell_type": "code",
   "execution_count": 30,
   "id": "c69a8ed2",
   "metadata": {},
   "outputs": [],
   "source": [
    "# create vocabulary and create document-term matrix\n",
    "toNumeric.fit(X_train) ## Create vocabulary\n",
    "X_train_dtm = toNumeric.transform(X_train)"
   ]
  },
  {
   "cell_type": "code",
   "execution_count": 31,
   "id": "d28cfbfa",
   "metadata": {},
   "outputs": [
    {
     "data": {
      "text/plain": [
       "<4179x7535 sparse matrix of type '<class 'numpy.int64'>'\n",
       "\twith 56144 stored elements in Compressed Sparse Row format>"
      ]
     },
     "execution_count": 31,
     "metadata": {},
     "output_type": "execute_result"
    }
   ],
   "source": [
    "X_train_dtm"
   ]
  },
  {
   "cell_type": "code",
   "execution_count": 32,
   "id": "379b35f9",
   "metadata": {},
   "outputs": [
    {
     "data": {
      "text/plain": [
       "<1393x7535 sparse matrix of type '<class 'numpy.int64'>'\n",
       "\twith 16754 stored elements in Compressed Sparse Row format>"
      ]
     },
     "execution_count": 32,
     "metadata": {},
     "output_type": "execute_result"
    }
   ],
   "source": [
    "X_test_dtm = toNumeric.transform(X_test)\n",
    "X_test_dtm"
   ]
  },
  {
   "cell_type": "markdown",
   "id": "3613e639",
   "metadata": {},
   "source": [
    "# 4.Building and evaluate a model"
   ]
  },
  {
   "cell_type": "code",
   "execution_count": 33,
   "id": "eb60764f",
   "metadata": {},
   "outputs": [],
   "source": [
    "from sklearn.naive_bayes import MultinomialNB\n",
    "nb = MultinomialNB()"
   ]
  },
  {
   "cell_type": "code",
   "execution_count": 34,
   "id": "78bc3ea3",
   "metadata": {},
   "outputs": [
    {
     "data": {
      "text/plain": [
       "MultinomialNB()"
      ]
     },
     "execution_count": 34,
     "metadata": {},
     "output_type": "execute_result"
    }
   ],
   "source": [
    "nb.fit(X_train_dtm,y_train)"
   ]
  },
  {
   "cell_type": "code",
   "execution_count": 35,
   "id": "3ca07ed5",
   "metadata": {},
   "outputs": [],
   "source": [
    "y_pred_class = nb.predict(X_test_dtm)"
   ]
  },
  {
   "cell_type": "code",
   "execution_count": 36,
   "id": "4e427952",
   "metadata": {},
   "outputs": [],
   "source": [
    "# Accuracy calculation\n",
    "from sklearn import metrics"
   ]
  },
  {
   "cell_type": "code",
   "execution_count": 37,
   "id": "6643899c",
   "metadata": {},
   "outputs": [
    {
     "data": {
      "text/plain": [
       "0.9820531227566404"
      ]
     },
     "execution_count": 37,
     "metadata": {},
     "output_type": "execute_result"
    }
   ],
   "source": [
    "nb.score(X_test_dtm,y_test)"
   ]
  },
  {
   "cell_type": "code",
   "execution_count": 38,
   "id": "0b29e6f4",
   "metadata": {},
   "outputs": [
    {
     "data": {
      "text/plain": [
       "0.9820531227566404"
      ]
     },
     "execution_count": 38,
     "metadata": {},
     "output_type": "execute_result"
    }
   ],
   "source": [
    "metrics.accuracy_score(y_test,y_pred_class)"
   ]
  },
  {
   "cell_type": "code",
   "execution_count": 39,
   "id": "fa5ed7e7",
   "metadata": {},
   "outputs": [
    {
     "data": {
      "text/plain": [
       "array([[1194,    7],\n",
       "       [  18,  174]], dtype=int64)"
      ]
     },
     "execution_count": 39,
     "metadata": {},
     "output_type": "execute_result"
    }
   ],
   "source": [
    "metrics.confusion_matrix(y_test,y_pred_class)"
   ]
  },
  {
   "cell_type": "code",
   "execution_count": 40,
   "id": "5cb407d5",
   "metadata": {},
   "outputs": [
    {
     "data": {
      "text/plain": [
       "array([3.11305286e-06, 2.45568879e-06, 3.66677804e-04, ...,\n",
       "       9.28339673e-01, 4.13005037e-01, 1.36208930e-07])"
      ]
     },
     "execution_count": 40,
     "metadata": {},
     "output_type": "execute_result"
    }
   ],
   "source": [
    "#predict probability for test data instead of labels directly\n",
    "y_pred_prob = nb.predict_proba(X_test_dtm)[:,1]\n",
    "y_pred_prob"
   ]
  },
  {
   "cell_type": "code",
   "execution_count": 41,
   "id": "97179cfa",
   "metadata": {},
   "outputs": [
    {
     "data": {
      "text/plain": [
       "0.9922894116014432"
      ]
     },
     "execution_count": 41,
     "metadata": {},
     "output_type": "execute_result"
    }
   ],
   "source": [
    "# calculate AUC _ ROC \n",
    "metrics.roc_auc_score(y_test,y_pred_prob)"
   ]
  },
  {
   "cell_type": "markdown",
   "id": "b843f9c9",
   "metadata": {},
   "source": [
    "# 5.Compare multiple models"
   ]
  },
  {
   "cell_type": "code",
   "execution_count": 42,
   "id": "8bc7481a",
   "metadata": {},
   "outputs": [],
   "source": [
    "from sklearn.linear_model import LogisticRegression\n",
    "lr = LogisticRegression()"
   ]
  },
  {
   "cell_type": "code",
   "execution_count": 43,
   "id": "f0a1255a",
   "metadata": {},
   "outputs": [
    {
     "data": {
      "text/plain": [
       "LogisticRegression()"
      ]
     },
     "execution_count": 43,
     "metadata": {},
     "output_type": "execute_result"
    }
   ],
   "source": [
    "lr.fit(X_train_dtm,y_train)"
   ]
  },
  {
   "cell_type": "code",
   "execution_count": 44,
   "id": "585105b3",
   "metadata": {},
   "outputs": [],
   "source": [
    "y_pred_class = lr.predict(X_test_dtm)"
   ]
  },
  {
   "cell_type": "code",
   "execution_count": 45,
   "id": "a256edec",
   "metadata": {},
   "outputs": [
    {
     "data": {
      "text/plain": [
       "0.9798994974874372"
      ]
     },
     "execution_count": 45,
     "metadata": {},
     "output_type": "execute_result"
    }
   ],
   "source": [
    "lr.score(X_test_dtm,y_test)"
   ]
  },
  {
   "cell_type": "code",
   "execution_count": 46,
   "id": "807c504b",
   "metadata": {},
   "outputs": [],
   "source": [
    "# calculate predicted probability for x_test_dtm"
   ]
  },
  {
   "cell_type": "code",
   "execution_count": 47,
   "id": "8bcdde1b",
   "metadata": {},
   "outputs": [
    {
     "data": {
      "text/plain": [
       "array([0.0062285 , 0.01911204, 0.00453425, ..., 0.50834525, 0.96176089,\n",
       "       0.00344967])"
      ]
     },
     "execution_count": 47,
     "metadata": {},
     "output_type": "execute_result"
    }
   ],
   "source": [
    "y_pred_prob = lr.predict_proba(X_test_dtm)[:,1]\n",
    "y_pred_prob"
   ]
  },
  {
   "cell_type": "code",
   "execution_count": 48,
   "id": "3c7914a2",
   "metadata": {},
   "outputs": [
    {
     "data": {
      "text/plain": [
       "0.9951819664168748"
      ]
     },
     "execution_count": 48,
     "metadata": {},
     "output_type": "execute_result"
    }
   ],
   "source": [
    "metrics.roc_auc_score(y_test,y_pred_prob)"
   ]
  },
  {
   "cell_type": "markdown",
   "id": "a9b4bf0a",
   "metadata": {},
   "source": [
    "# TF-IDF "
   ]
  },
  {
   "cell_type": "code",
   "execution_count": 49,
   "id": "f216be46",
   "metadata": {},
   "outputs": [],
   "source": [
    "from sklearn.feature_extraction.text import TfidfVectorizer"
   ]
  },
  {
   "cell_type": "code",
   "execution_count": 50,
   "id": "a494bb50",
   "metadata": {},
   "outputs": [],
   "source": [
    "toNumericTFIDF = TfidfVectorizer()"
   ]
  },
  {
   "cell_type": "code",
   "execution_count": 51,
   "id": "23aaa964",
   "metadata": {},
   "outputs": [
    {
     "data": {
      "text/plain": [
       "TfidfVectorizer()"
      ]
     },
     "execution_count": 51,
     "metadata": {},
     "output_type": "execute_result"
    }
   ],
   "source": [
    "toNumericTFIDF.fit(sampleTrain)"
   ]
  },
  {
   "cell_type": "code",
   "execution_count": 52,
   "id": "438842e4",
   "metadata": {},
   "outputs": [
    {
     "name": "stderr",
     "output_type": "stream",
     "text": [
      "C:\\Users\\Pooja\\anaconda\\lib\\site-packages\\sklearn\\utils\\deprecation.py:87: FutureWarning: Function get_feature_names is deprecated; get_feature_names is deprecated in 1.0 and will be removed in 1.2. Please use get_feature_names_out instead.\n",
      "  warnings.warn(msg, category=FutureWarning)\n"
     ]
    },
    {
     "data": {
      "text/plain": [
       "['cab', 'call', 'help', 'me', 'please', 'tonight', 'will', 'you']"
      ]
     },
     "execution_count": 52,
     "metadata": {},
     "output_type": "execute_result"
    }
   ],
   "source": [
    "toNumericTFIDF.get_feature_names()"
   ]
  },
  {
   "cell_type": "code",
   "execution_count": 53,
   "id": "239f01e2",
   "metadata": {},
   "outputs": [
    {
     "data": {
      "text/plain": [
       "8"
      ]
     },
     "execution_count": 53,
     "metadata": {},
     "output_type": "execute_result"
    }
   ],
   "source": [
    "len(toNumericTFIDF.get_feature_names())"
   ]
  },
  {
   "cell_type": "code",
   "execution_count": 54,
   "id": "e31e1b84",
   "metadata": {},
   "outputs": [],
   "source": [
    "sampleTrainTFIDF_dtm = toNumericTFIDF.transform(sampleTrain)"
   ]
  },
  {
   "cell_type": "code",
   "execution_count": 55,
   "id": "95bcd63b",
   "metadata": {},
   "outputs": [
    {
     "data": {
      "text/plain": [
       "array([[0.        , 0.40204024, 0.        , 0.        , 0.        ,\n",
       "        0.52863461, 0.52863461, 0.52863461],\n",
       "       [0.        , 0.        , 0.62276601, 0.62276601, 0.4736296 ,\n",
       "        0.        , 0.        , 0.        ],\n",
       "       [0.50689001, 0.38550292, 0.        , 0.        , 0.77100584,\n",
       "        0.        , 0.        , 0.        ]])"
      ]
     },
     "execution_count": 55,
     "metadata": {},
     "output_type": "execute_result"
    }
   ],
   "source": [
    "sampleTrainTFIDF_dtm.toarray()"
   ]
  },
  {
   "cell_type": "code",
   "execution_count": 56,
   "id": "2130cd34",
   "metadata": {},
   "outputs": [
    {
     "data": {
      "text/html": [
       "<div>\n",
       "<style scoped>\n",
       "    .dataframe tbody tr th:only-of-type {\n",
       "        vertical-align: middle;\n",
       "    }\n",
       "\n",
       "    .dataframe tbody tr th {\n",
       "        vertical-align: top;\n",
       "    }\n",
       "\n",
       "    .dataframe thead th {\n",
       "        text-align: right;\n",
       "    }\n",
       "</style>\n",
       "<table border=\"1\" class=\"dataframe\">\n",
       "  <thead>\n",
       "    <tr style=\"text-align: right;\">\n",
       "      <th></th>\n",
       "      <th>cab</th>\n",
       "      <th>call</th>\n",
       "      <th>help</th>\n",
       "      <th>me</th>\n",
       "      <th>please</th>\n",
       "      <th>tonight</th>\n",
       "      <th>will</th>\n",
       "      <th>you</th>\n",
       "    </tr>\n",
       "  </thead>\n",
       "  <tbody>\n",
       "    <tr>\n",
       "      <th>0</th>\n",
       "      <td>0.00000</td>\n",
       "      <td>0.402040</td>\n",
       "      <td>0.000000</td>\n",
       "      <td>0.000000</td>\n",
       "      <td>0.000000</td>\n",
       "      <td>0.528635</td>\n",
       "      <td>0.528635</td>\n",
       "      <td>0.528635</td>\n",
       "    </tr>\n",
       "    <tr>\n",
       "      <th>1</th>\n",
       "      <td>0.00000</td>\n",
       "      <td>0.000000</td>\n",
       "      <td>0.622766</td>\n",
       "      <td>0.622766</td>\n",
       "      <td>0.473630</td>\n",
       "      <td>0.000000</td>\n",
       "      <td>0.000000</td>\n",
       "      <td>0.000000</td>\n",
       "    </tr>\n",
       "    <tr>\n",
       "      <th>2</th>\n",
       "      <td>0.50689</td>\n",
       "      <td>0.385503</td>\n",
       "      <td>0.000000</td>\n",
       "      <td>0.000000</td>\n",
       "      <td>0.771006</td>\n",
       "      <td>0.000000</td>\n",
       "      <td>0.000000</td>\n",
       "      <td>0.000000</td>\n",
       "    </tr>\n",
       "  </tbody>\n",
       "</table>\n",
       "</div>"
      ],
      "text/plain": [
       "       cab      call      help        me    please   tonight      will  \\\n",
       "0  0.00000  0.402040  0.000000  0.000000  0.000000  0.528635  0.528635   \n",
       "1  0.00000  0.000000  0.622766  0.622766  0.473630  0.000000  0.000000   \n",
       "2  0.50689  0.385503  0.000000  0.000000  0.771006  0.000000  0.000000   \n",
       "\n",
       "        you  \n",
       "0  0.528635  \n",
       "1  0.000000  \n",
       "2  0.000000  "
      ]
     },
     "execution_count": 56,
     "metadata": {},
     "output_type": "execute_result"
    }
   ],
   "source": [
    "pd.DataFrame(sampleTrainTFIDF_dtm.toarray(),columns=toNumericTFIDF.get_feature_names())"
   ]
  },
  {
   "cell_type": "code",
   "execution_count": 57,
   "id": "300e1dad",
   "metadata": {},
   "outputs": [
    {
     "data": {
      "text/plain": [
       "['i will call you tonight', 'please help me...', 'please call a cab please !']"
      ]
     },
     "execution_count": 57,
     "metadata": {},
     "output_type": "execute_result"
    }
   ],
   "source": [
    "sampleTrain"
   ]
  },
  {
   "cell_type": "code",
   "execution_count": 58,
   "id": "1537b7a3",
   "metadata": {},
   "outputs": [],
   "source": [
    "# we can built model using TF-IDF just like Count vectorizer "
   ]
  },
  {
   "cell_type": "markdown",
   "id": "e1857c39",
   "metadata": {},
   "source": [
    "# 6.Fine tune vectorizer"
   ]
  },
  {
   "cell_type": "code",
   "execution_count": 59,
   "id": "3faaa77e",
   "metadata": {},
   "outputs": [
    {
     "data": {
      "text/plain": [
       "CountVectorizer()"
      ]
     },
     "execution_count": 59,
     "metadata": {},
     "output_type": "execute_result"
    }
   ],
   "source": [
    "# Default parameters for Countvectorizer\n",
    "toNumeric = CountVectorizer()\n",
    "toNumeric"
   ]
  },
  {
   "cell_type": "code",
   "execution_count": 60,
   "id": "bfe628ed",
   "metadata": {},
   "outputs": [
    {
     "name": "stderr",
     "output_type": "stream",
     "text": [
      "C:\\Users\\Pooja\\anaconda\\lib\\site-packages\\sklearn\\utils\\deprecation.py:87: FutureWarning: Function get_feature_names is deprecated; get_feature_names is deprecated in 1.0 and will be removed in 1.2. Please use get_feature_names_out instead.\n",
      "  warnings.warn(msg, category=FutureWarning)\n"
     ]
    },
    {
     "data": {
      "text/plain": [
       "7271"
      ]
     },
     "execution_count": 60,
     "metadata": {},
     "output_type": "execute_result"
    }
   ],
   "source": [
    "#Remove English stop words (common words like the,a,and etc.,)\n",
    "\n",
    "toNumeric = CountVectorizer(stop_words='english')\n",
    "toNumeric.fit(X_train)\n",
    "len(toNumeric.get_feature_names())"
   ]
  },
  {
   "cell_type": "code",
   "execution_count": 61,
   "id": "5a64dcd7",
   "metadata": {},
   "outputs": [
    {
     "data": {
      "text/plain": [
       "['zeros',\n",
       " 'zhong',\n",
       " 'zindgi',\n",
       " 'zoe',\n",
       " 'zogtorius',\n",
       " 'zoom',\n",
       " 'zouk',\n",
       " 'zyada',\n",
       " 'èn',\n",
       " 'ú1']"
      ]
     },
     "execution_count": 61,
     "metadata": {},
     "output_type": "execute_result"
    }
   ],
   "source": [
    "toNumeric.get_feature_names()[-10:]"
   ]
  },
  {
   "cell_type": "code",
   "execution_count": 62,
   "id": "038a6798",
   "metadata": {},
   "outputs": [
    {
     "data": {
      "text/plain": [
       "41571"
      ]
     },
     "execution_count": 62,
     "metadata": {},
     "output_type": "execute_result"
    }
   ],
   "source": [
    "# Include 1 and 2-grams\n",
    "toNumeric = TfidfVectorizer(ngram_range=(1,2))\n",
    "toNumeric.fit(X_train)\n",
    "len(toNumeric.get_feature_names())"
   ]
  },
  {
   "cell_type": "markdown",
   "id": "44fd4f72",
   "metadata": {},
   "source": [
    "ngram_range parameter using to take instead of taking 1 word at a time we can take pair of words at a time"
   ]
  },
  {
   "cell_type": "code",
   "execution_count": 63,
   "id": "515ddffb",
   "metadata": {},
   "outputs": [
    {
     "data": {
      "text/plain": [
       "7535"
      ]
     },
     "execution_count": 63,
     "metadata": {},
     "output_type": "execute_result"
    }
   ],
   "source": [
    "toNumeric =CountVectorizer(max_df = 0.75)\n",
    "toNumeric.fit(X_train)\n",
    "len(toNumeric.get_feature_names())"
   ]
  },
  {
   "cell_type": "markdown",
   "id": "7bad54d1",
   "metadata": {},
   "source": [
    "using max_df If a word appears more then 75% of the document don't consider it"
   ]
  },
  {
   "cell_type": "code",
   "execution_count": 64,
   "id": "4d2efed9",
   "metadata": {},
   "outputs": [
    {
     "data": {
      "text/plain": [
       "1504"
      ]
     },
     "execution_count": 64,
     "metadata": {},
     "output_type": "execute_result"
    }
   ],
   "source": [
    "toNumeric =CountVectorizer(min_df = 5)\n",
    "toNumeric.fit(X_train)\n",
    "len(toNumeric.get_feature_names())"
   ]
  },
  {
   "cell_type": "markdown",
   "id": "4f1dc4c0",
   "metadata": {},
   "source": [
    "using min_df if a word doesn't appearing atleast in 5 document don't consider it"
   ]
  },
  {
   "cell_type": "markdown",
   "id": "f79b6ce3",
   "metadata": {},
   "source": [
    "# 7.Word Cloud"
   ]
  },
  {
   "cell_type": "code",
   "execution_count": 65,
   "id": "9ef55989",
   "metadata": {},
   "outputs": [],
   "source": [
    "# Visualization of Word Frequency we use a library called wordcloud"
   ]
  },
  {
   "cell_type": "code",
   "execution_count": 66,
   "id": "adb21c98",
   "metadata": {},
   "outputs": [],
   "source": [
    "import matplotlib.pyplot as plt\n",
    "import seaborn as sns\n",
    "from wordcloud import WordCloud"
   ]
  },
  {
   "cell_type": "code",
   "execution_count": 67,
   "id": "ab527514",
   "metadata": {},
   "outputs": [
    {
     "name": "stdout",
     "output_type": "stream",
     "text": [
      "Requirement already satisfied: wordcloud in c:\\users\\pooja\\anaconda\\lib\\site-packages (1.8.2.2)\n",
      "Requirement already satisfied: numpy>=1.6.1 in c:\\users\\pooja\\anaconda\\lib\\site-packages (from wordcloud) (1.21.5)\n",
      "Requirement already satisfied: pillow in c:\\users\\pooja\\anaconda\\lib\\site-packages (from wordcloud) (9.2.0)\n",
      "Requirement already satisfied: matplotlib in c:\\users\\pooja\\anaconda\\lib\\site-packages (from wordcloud) (3.5.2)\n",
      "Requirement already satisfied: fonttools>=4.22.0 in c:\\users\\pooja\\anaconda\\lib\\site-packages (from matplotlib->wordcloud) (4.25.0)\n",
      "Requirement already satisfied: kiwisolver>=1.0.1 in c:\\users\\pooja\\anaconda\\lib\\site-packages (from matplotlib->wordcloud) (1.4.2)\n",
      "Requirement already satisfied: packaging>=20.0 in c:\\users\\pooja\\anaconda\\lib\\site-packages (from matplotlib->wordcloud) (21.3)\n",
      "Requirement already satisfied: python-dateutil>=2.7 in c:\\users\\pooja\\anaconda\\lib\\site-packages (from matplotlib->wordcloud) (2.8.2)\n",
      "Requirement already satisfied: pyparsing>=2.2.1 in c:\\users\\pooja\\anaconda\\lib\\site-packages (from matplotlib->wordcloud) (3.0.9)\n",
      "Requirement already satisfied: cycler>=0.10 in c:\\users\\pooja\\anaconda\\lib\\site-packages (from matplotlib->wordcloud) (0.11.0)\n",
      "Requirement already satisfied: six>=1.5 in c:\\users\\pooja\\anaconda\\lib\\site-packages (from python-dateutil>=2.7->matplotlib->wordcloud) (1.16.0)\n"
     ]
    }
   ],
   "source": [
    "!pip install wordcloud"
   ]
  },
  {
   "cell_type": "code",
   "execution_count": 68,
   "id": "0c970923",
   "metadata": {},
   "outputs": [
    {
     "data": {
      "text/html": [
       "<div>\n",
       "<style scoped>\n",
       "    .dataframe tbody tr th:only-of-type {\n",
       "        vertical-align: middle;\n",
       "    }\n",
       "\n",
       "    .dataframe tbody tr th {\n",
       "        vertical-align: top;\n",
       "    }\n",
       "\n",
       "    .dataframe thead th {\n",
       "        text-align: right;\n",
       "    }\n",
       "</style>\n",
       "<table border=\"1\" class=\"dataframe\">\n",
       "  <thead>\n",
       "    <tr style=\"text-align: right;\">\n",
       "      <th></th>\n",
       "      <th>label</th>\n",
       "      <th>message</th>\n",
       "      <th>label_num</th>\n",
       "    </tr>\n",
       "  </thead>\n",
       "  <tbody>\n",
       "    <tr>\n",
       "      <th>0</th>\n",
       "      <td>ham</td>\n",
       "      <td>Go until jurong point, crazy.. Available only ...</td>\n",
       "      <td>0</td>\n",
       "    </tr>\n",
       "    <tr>\n",
       "      <th>1</th>\n",
       "      <td>ham</td>\n",
       "      <td>Ok lar... Joking wif u oni...</td>\n",
       "      <td>0</td>\n",
       "    </tr>\n",
       "    <tr>\n",
       "      <th>2</th>\n",
       "      <td>spam</td>\n",
       "      <td>Free entry in 2 a wkly comp to win FA Cup fina...</td>\n",
       "      <td>1</td>\n",
       "    </tr>\n",
       "    <tr>\n",
       "      <th>3</th>\n",
       "      <td>ham</td>\n",
       "      <td>U dun say so early hor... U c already then say...</td>\n",
       "      <td>0</td>\n",
       "    </tr>\n",
       "    <tr>\n",
       "      <th>4</th>\n",
       "      <td>ham</td>\n",
       "      <td>Nah I don't think he goes to usf, he lives aro...</td>\n",
       "      <td>0</td>\n",
       "    </tr>\n",
       "  </tbody>\n",
       "</table>\n",
       "</div>"
      ],
      "text/plain": [
       "  label                                            message  label_num\n",
       "0   ham  Go until jurong point, crazy.. Available only ...          0\n",
       "1   ham                      Ok lar... Joking wif u oni...          0\n",
       "2  spam  Free entry in 2 a wkly comp to win FA Cup fina...          1\n",
       "3   ham  U dun say so early hor... U c already then say...          0\n",
       "4   ham  Nah I don't think he goes to usf, he lives aro...          0"
      ]
     },
     "execution_count": 68,
     "metadata": {},
     "output_type": "execute_result"
    }
   ],
   "source": [
    "data.head(5)"
   ]
  },
  {
   "cell_type": "code",
   "execution_count": 69,
   "id": "2ed20891",
   "metadata": {},
   "outputs": [
    {
     "data": {
      "image/png": "[encoded data removed]",
      "text/plain": [
       "<Figure size 2000x1000 with 1 Axes>"
      ]
     },
     "metadata": {},
     "output_type": "display_data"
    }
   ],
   "source": [
    "wc = WordCloud()\n",
    "wc.generate(str(data['message']))\n",
    "plt.figure(figsize=(20,10),facecolor='k')\n",
    "plt.title('Most frequently used words in SMS Dataset',fontsize=40,color='white')\n",
    "plt.imshow(wc)\n",
    "plt.show()"
   ]
  },
  {
   "cell_type": "markdown",
   "id": "5a6280e6",
   "metadata": {},
   "source": [
    "# 8.Lemmatization & Stemming"
   ]
  },
  {
   "cell_type": "code",
   "execution_count": 70,
   "id": "184d739b",
   "metadata": {},
   "outputs": [],
   "source": [
    "import nltk"
   ]
  },
  {
   "cell_type": "code",
   "execution_count": 71,
   "id": "0386eae9",
   "metadata": {},
   "outputs": [],
   "source": [
    "from nltk.stem import PorterStemmer\n",
    "from nltk.stem import LancasterStemmer"
   ]
  },
  {
   "cell_type": "code",
   "execution_count": 72,
   "id": "0bae2e4a",
   "metadata": {},
   "outputs": [],
   "source": [
    "#create an object class PorterStemmer\n",
    "porter = PorterStemmer()\n",
    "lancaster = LancasterStemmer()"
   ]
  },
  {
   "cell_type": "raw",
   "id": "033e6a92",
   "metadata": {},
   "source": [
    "PorterStemmer\n",
    "It uses set of rules to decide whether it is wise to strip a suffix\n",
    "Quite often does not generate words which are in dictionary\n",
    "Porterstemmer is known for its simplicity and speed"
   ]
  },
  {
   "cell_type": "code",
   "execution_count": 73,
   "id": "ee206517",
   "metadata": {},
   "outputs": [
    {
     "name": "stdout",
     "output_type": "stream",
     "text": [
      "cat\n",
      "troubl\n",
      "troubl\n",
      "troubl\n"
     ]
    }
   ],
   "source": [
    "# provide a word to be stemmed\n",
    "print(porter.stem('cats'))\n",
    "print(porter.stem('trouble'))\n",
    "print(porter.stem('troubling'))\n",
    "print(porter.stem('troubled'))"
   ]
  },
  {
   "cell_type": "code",
   "execution_count": 74,
   "id": "cf2a5c06",
   "metadata": {},
   "outputs": [
    {
     "data": {
      "text/plain": [
       "'pythoners are very intelligent and work very pythonly and now they are pythoning their way to success.'"
      ]
     },
     "execution_count": 74,
     "metadata": {},
     "output_type": "execute_result"
    }
   ],
   "source": [
    "# lets apply stemming for complete sentence\n",
    "sentence = 'pythoners are very intelligent and work very pythonly and now they are pythoning their way to success.'\n",
    "porter.stem(sentence)"
   ]
  },
  {
   "cell_type": "code",
   "execution_count": 77,
   "id": "01374b36",
   "metadata": {},
   "outputs": [],
   "source": [
    "from textblob import TextBlob"
   ]
  },
  {
   "cell_type": "code",
   "execution_count": 76,
   "id": "e4ee391e",
   "metadata": {},
   "outputs": [
    {
     "name": "stdout",
     "output_type": "stream",
     "text": [
      "Collecting textblob\n",
      "  Downloading textblob-0.17.1-py2.py3-none-any.whl (636 kB)\n",
      "     -------------------------------------- 636.8/636.8 kB 1.8 MB/s eta 0:00:00\n",
      "Requirement already satisfied: nltk>=3.1 in c:\\users\\pooja\\anaconda\\lib\\site-packages (from textblob) (3.7)\n",
      "Requirement already satisfied: tqdm in c:\\users\\pooja\\anaconda\\lib\\site-packages (from nltk>=3.1->textblob) (4.64.1)\n",
      "Requirement already satisfied: joblib in c:\\users\\pooja\\anaconda\\lib\\site-packages (from nltk>=3.1->textblob) (1.1.0)\n",
      "Requirement already satisfied: regex>=2021.8.3 in c:\\users\\pooja\\anaconda\\lib\\site-packages (from nltk>=3.1->textblob) (2022.7.9)\n",
      "Requirement already satisfied: click in c:\\users\\pooja\\anaconda\\lib\\site-packages (from nltk>=3.1->textblob) (8.0.4)\n",
      "Requirement already satisfied: colorama in c:\\users\\pooja\\anaconda\\lib\\site-packages (from click->nltk>=3.1->textblob) (0.4.5)\n",
      "Installing collected packages: textblob\n",
      "Successfully installed textblob-0.17.1\n"
     ]
    }
   ],
   "source": [
    "!pip install textblob"
   ]
  },
  {
   "cell_type": "code",
   "execution_count": 78,
   "id": "f077a64c",
   "metadata": {},
   "outputs": [],
   "source": [
    "sent = TextBlob(sentence)"
   ]
  },
  {
   "cell_type": "markdown",
   "id": "d378f5ee",
   "metadata": {},
   "source": [
    "# 9.Sentiment Calculation"
   ]
  },
  {
   "cell_type": "code",
   "execution_count": 82,
   "id": "a961879b",
   "metadata": {},
   "outputs": [],
   "source": [
    "text = 'I hate anything that goes in my ear'"
   ]
  },
  {
   "cell_type": "code",
   "execution_count": 83,
   "id": "eed47d88",
   "metadata": {},
   "outputs": [],
   "source": [
    "result = TextBlob(text)"
   ]
  },
  {
   "cell_type": "code",
   "execution_count": 84,
   "id": "cc4ce954",
   "metadata": {},
   "outputs": [
    {
     "data": {
      "text/plain": [
       "-0.8"
      ]
     },
     "execution_count": 84,
     "metadata": {},
     "output_type": "execute_result"
    }
   ],
   "source": [
    "result.sentiment.polarity"
   ]
  },
  {
   "cell_type": "code",
   "execution_count": 85,
   "id": "d0670894",
   "metadata": {},
   "outputs": [],
   "source": [
    "# inbuilt library"
   ]
  },
  {
   "cell_type": "code",
   "execution_count": 89,
   "id": "4cea73e0",
   "metadata": {},
   "outputs": [],
   "source": [
    "text1 = 'I am very happy today,I like to eat biryani'"
   ]
  },
  {
   "cell_type": "code",
   "execution_count": 90,
   "id": "68d793ef",
   "metadata": {},
   "outputs": [],
   "source": [
    "result1 = TextBlob(text1)"
   ]
  },
  {
   "cell_type": "code",
   "execution_count": 91,
   "id": "ce3d74bf",
   "metadata": {},
   "outputs": [
    {
     "data": {
      "text/plain": [
       "1.0"
      ]
     },
     "execution_count": 91,
     "metadata": {},
     "output_type": "execute_result"
    }
   ],
   "source": [
    "result1.sentiment.polarity"
   ]
  },
  {
   "cell_type": "code",
   "execution_count": null,
   "id": "f8555776",
   "metadata": {},
   "outputs": [],
   "source": []
  }
 ],
 "metadata": {
  "kernelspec": {
   "display_name": "Python 3 (ipykernel)",
   "language": "python",
   "name": "python3"
  },
  "language_info": {
   "codemirror_mode": {
    "name": "ipython",
    "version": 3
   },
   "file_extension": ".py",
   "mimetype": "text/x-python",
   "name": "python",
   "nbconvert_exporter": "python",
   "pygments_lexer": "ipython3",
   "version": "3.9.13"
  }
 },
 "nbformat": 4,
 "nbformat_minor": 5
}
